{
  "cells": [
    {
      "cell_type": "code",
      "execution_count": null,
      "metadata": {
        "id": "IYZ-hd2CUtj3"
      },
      "outputs": [],
      "source": [
        "import scapy.layers.l2\n",
        "from scapy.all import *\n",
        "import time\n",
        "import threading"
      ]
    },
    {
      "cell_type": "code",
      "execution_count": null,
      "metadata": {
        "id": "TNY3A2ZqZazU"
      },
      "outputs": [],
      "source": [
        "def password_check():\n",
        "  result = false\n",
        "\n",
        "  # 비밀번호검사 or 인증 후 true 반환\n",
        "\n",
        "  return result"
      ]
    },
    {
      "cell_type": "code",
      "execution_count": null,
      "metadata": {
        "id": "mkvPgaYtZ45-"
      },
      "outputs": [],
      "source": [
        "def alert(mac):\n",
        "  print(\"\\n\" + mac + \"사용자가 접근 시도\\n\")\n",
        "  # print 이용했으나 현재 이용자에게 직접적인 경고로 취급"
      ]
    },
    {
      "cell_type": "code",
      "execution_count": null,
      "metadata": {
        "id": "RQs9PqHlUpwy"
      },
      "outputs": [],
      "source": [
        "user_mac_list = []\n",
        "user_connect = false\n",
        "\n",
        "count = 1\n",
        "protocols = {1:'icmp', 6:'tcp', 17:'udp'}\n",
        "protocol_type = tcp # icmp, udp, tcp\n",
        "sniffing_time = 60\n",
        "\n",
        "def sniffing():\n",
        "    print(\"Sniffing Start\")\n",
        "    pcap_file = sniff(prn=showPacket, timeout=int(sniffing_time), filter=str(protocol_type))\n",
        "    print(\"Finish Capture Packet\")\n",
        "    if count == 1:\n",
        "            print(\"No Packet\")\n",
        "            sys.exit()\n",
        "    else:\n",
        "        print(\"Total Packet: %s\" %(count-1))\n",
        "        file_name = input(\"Enter File Name: \")\n",
        "        wrpcap(str(file_name), pcap_file)\n",
        "\n",
        "\n",
        "def showPacket(packet):\n",
        "    global count\n",
        "    # IP\n",
        "    src_ip = packet[IP].src\n",
        "    dst_ip = packet[IP].dst\n",
        "    proto = packet[IP].proto\n",
        "    ttl = packet[IP].ttl\n",
        "    length = packet[IP].len\n",
        "\n",
        "    if proto in protocols:\n",
        "        # ICMP\n",
        "        if proto == 1:\n",
        "            message_type = packet[ICMP].type\n",
        "            code = packet[ICMP].code\n",
        "\n",
        "            print(\"packet number: %s protocol: %s\" %(count, protocols[proto].upper()))\n",
        "            print(\"src: %s -> dst: %s TTL: %s\" %(src_ip, dst_ip, ttl))\n",
        "            print(\"type: %s code: %s\" %(message_type, code))\n",
        "            print(\"\\n\")\n",
        "\n",
        "        # TCP\n",
        "        if proto == 6:\n",
        "            sport = packet[TCP].sport\n",
        "            dport = packet[TCP].dport\n",
        "            seq = packet[TCP].dport\n",
        "            ack = packet[TCP].ack\n",
        "            flag = packet[TCP].flags\n",
        "\n",
        "            print(\"packet number: %s protocol: %s\" %(count, protocols[proto].upper()))\n",
        "            print(\"src: %s -> dst: %s\" %(src_ip, dst_ip))\n",
        "            print(\"TTL: %s Length: %s\" %(ttl, length))\n",
        "            print(\"sport: %s dport: %s\" %(sport, dport))\n",
        "            print(\"seq: %s ack: %s flag: %s\" %(seq, ack, flag))\n",
        "            print(\"\\n\")\n",
        "\n",
        "        # UDP\n",
        "        if proto == 17:\n",
        "            sport = packet[UDP].sport\n",
        "            dport = packet[UDP].dport\n",
        "            udp_length = packet[UDP].len\n",
        "            print(\"packet number: %s protocol: %s\" %(count, protocols[proto].upper()))\n",
        "            print(\"src: %s -> dst: %s TTL: %s\" %(src_ip, dst_ip, ttl))\n",
        "            print(\"sport: %s dport: %s Packet Length: %s\" %(sport, dport, udp_length))\n",
        "            print(\"\\n\")\n",
        "        count += 1\n",
        "\n",
        "def check_mac():\n",
        "\n",
        "  net ='192.168.35.1/24' # ip 대역 설정\n",
        "\n",
        "  ans, noans = scapy.layers.l2.arping(net, timeout=1, verbose=True)\n",
        "\n",
        "  while True:\n",
        "      for sent, received in ans.res:\n",
        "          mac = received.hwsrc\n",
        "\n",
        "          if mac in user_mac_list:\n",
        "            user_connect = true\n",
        "          else:\n",
        "            if password_check():\n",
        "              user_connect = true\n",
        "              user_mac_list.append(mac)\n",
        "            else:\n",
        "              alert(mac)\n",
        "\n",
        "\n",
        "      time.sleep(0.2)\n",
        "\n",
        "thread_1 = threading.Thread(target = check_mac)\n",
        "thread_2 = threading.Thread(target = sniffing)\n",
        "\n",
        "thread_1.start()\n",
        "thread_2.start()"
      ]
    },
    {
      "cell_type": "code",
      "execution_count": null,
      "metadata": {
        "id": "70WPDqcRXnXL"
      },
      "outputs": [],
      "source": []
    }
  ],
  "metadata": {
    "colab": {
      "provenance": []
    },
    "kernelspec": {
      "display_name": "Python 3",
      "name": "python3"
    },
    "language_info": {
      "name": "python"
    }
  },
  "nbformat": 4,
  "nbformat_minor": 0
}
